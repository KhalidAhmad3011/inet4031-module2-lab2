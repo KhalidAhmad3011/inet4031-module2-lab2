{
  "metadata": {
    "kernelspec": {
      "name": "xpython",
      "display_name": "Python 3.13 (XPython)",
      "language": "python"
    },
    "language_info": {
      "file_extension": ".py",
      "mimetype": "text/x-python",
      "name": "python",
      "version": "3.13.1"
    }
  },
  "nbformat_minor": 5,
  "nbformat": 4,
  "cells": [
    {
      "id": "d50e828d-b8e6-48fe-8ad0-afd43d1f9a2c",
      "cell_type": "code",
      "source": "# INET4031 Module 1\n#\n# User List Processing Program\n#\n# Created: Nov 11, 2024\n# Updated: Jan 6, 2025\n#\n\ndef main():\n\n    #open the user list file\n    try:\n\n        userFile = open(\"list-of-users.txt\", \"r\")\n\n    except:\n        print(\"\\nCould not read the file specified.\\n\")\n        exit()\n\n    #load the lines of the file into a list\n    listOfUsers = userFile.readlines()\n    print(\"\\nlist-of-users was read.\")\n\n    #ask the user to proceed\n    answer = input(\"\\nDo you want to print out the list of users? (Y or N)\")\n\n    if answer == \"Y\" or answer == \"y\":\n\n        for userline in listOfUsers:\n            print(\"\\n\", userline)\n\n    else:\n\n        print(\"\\nOk not printing, ending program.\")\n\n    print(\"\\nEnd of User Processing\\n\")\n\nmain()\n\n\n",
      "metadata": {
        "trusted": true
      },
      "outputs": [
        {
          "name": "stdout",
          "output_type": "stream",
          "text": "\nlist-of-users was read.\n"
        },
        {
          "output_type": "stream",
          "name": "stdin",
          "text": "\nDo you want to print out the list of users? (Y or N) y\n"
        },
        {
          "name": "stdout",
          "output_type": "stream",
          "text": "\n dwash1:abc123:Washington:Denzel:administrators\n\n\n brpit2:abc123:Pitt:Brad:users\n\n\n tcook1:abc123:Tim:Cook:managers\n\n\n byonce:abc123:Knowles-Carter:Beyonce:administrators,queens\n\nEnd of User Processing\n\n"
        }
      ],
      "execution_count": 2
    },
    {
      "id": "bf2d0df8-0a0a-4a35-87b2-964056aa6fa1",
      "cell_type": "code",
      "source": "",
      "metadata": {
        "trusted": true
      },
      "outputs": [],
      "execution_count": null
    }
  ]
}